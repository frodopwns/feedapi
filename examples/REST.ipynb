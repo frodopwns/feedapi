{
 "cells": [
  {
   "cell_type": "code",
   "execution_count": null,
   "metadata": {},
   "outputs": [],
   "source": [
    "import requests, json\n",
    "\n",
    "api = \"http://127.0.0.1:3000/\"\n",
    "\n",
    "r = requests.get(api)\n",
    "if r.ok:\n",
    "    print \"api is running\"\n",
    "else:\n",
    "    print \"api not running\""
   ]
  },
  {
   "cell_type": "code",
   "execution_count": null,
   "metadata": {},
   "outputs": [],
   "source": [
    "from os.path import join\n",
    "from pprint import pprint"
   ]
  },
  {
   "cell_type": "code",
   "execution_count": null,
   "metadata": {},
   "outputs": [],
   "source": [
    "path = join(api, \"users\")\n",
    "print \"POST user to \" + path\n",
    "\n",
    "payload = {\n",
    "    \"name\": \"Big Bird2\",\n",
    "    \"email\": \"bird2@sesame.town\",\n",
    "}\n",
    "\n",
    "headers = {\n",
    "    \"Content-Type\": \"application/json\",\n",
    "}\n",
    "\n",
    "r = requests.post(path, headers=headers, data=json.dumps(payload))\n",
    "user_id = \"\"\n",
    "\n",
    "if r.ok:\n",
    "    print r.json()\n",
    "    user_id = r.json()['id']\n",
    "else:\n",
    "    print r.status_code, r.reason\n",
    "    print r.text"
   ]
  },
  {
   "cell_type": "code",
   "execution_count": null,
   "metadata": {},
   "outputs": [],
   "source": [
    "path = join(api, \"users\")\n",
    "print \"GET users from \" + path\n",
    "\n",
    "headers = {\n",
    "    \"Content-Type\": \"application/json\",\n",
    "}\n",
    "\n",
    "r = requests.get(path, headers=headers)\n",
    "\n",
    "if r.ok:\n",
    "    print pprint(r.json())\n",
    "else:\n",
    "    print r.status_code, r.reason\n",
    "    print r.text"
   ]
  },
  {
   "cell_type": "code",
   "execution_count": null,
   "metadata": {},
   "outputs": [],
   "source": [
    "user_id = \"4f7add38-666a-4834-8565-318aa94848bd\"\n",
    "path = join(api, \"users\", user_id)\n",
    "print \"GET a user from \" + path\n",
    "\n",
    "headers = {\n",
    "    \"Content-Type\": \"application/json\",\n",
    "}\n",
    "\n",
    "r = requests.get(path, headers=headers)\n",
    "\n",
    "if r.ok:\n",
    "    print r.json()\n",
    "else:\n",
    "    print r.status_code, r.reason\n",
    "    print r.text"
   ]
  },
  {
   "cell_type": "code",
   "execution_count": null,
   "metadata": {},
   "outputs": [],
   "source": [
    "#user_id = \"some_cool_user\"\n",
    "path = join(api, \"users\", user_id)\n",
    "print \"DELETE a user at \" + path\n",
    "\n",
    "headers = {\n",
    "    \"Content-Type\": \"application/json\",\n",
    "}\n",
    "\n",
    "r = requests.delete(path, headers=headers)\n",
    "\n",
    "if r.ok:\n",
    "    print r.status_code\n",
    "    print r.json()\n",
    "else:\n",
    "    print r.status_code, r.reason\n",
    "    print r.text"
   ]
  },
  {
   "cell_type": "code",
   "execution_count": null,
   "metadata": {},
   "outputs": [],
   "source": [
    "# Feeds"
   ]
  },
  {
   "cell_type": "code",
   "execution_count": null,
   "metadata": {},
   "outputs": [],
   "source": [
    "path = join(api, \"feeds\")\n",
    "print \"GET feeds from \" + path\n",
    "\n",
    "headers = {\n",
    "    \"Content-Type\": \"application/json\",\n",
    "}\n",
    "\n",
    "r = requests.get(path, headers=headers)\n",
    "\n",
    "if r.ok:\n",
    "    print pprint(r.json())\n",
    "else:\n",
    "    print r.status_code, r.reason\n",
    "    print r.text"
   ]
  },
  {
   "cell_type": "code",
   "execution_count": null,
   "metadata": {},
   "outputs": [],
   "source": [
    "#Articles"
   ]
  },
  {
   "cell_type": "code",
   "execution_count": null,
   "metadata": {},
   "outputs": [],
   "source": [
    "path = join(api, \"articles\")\n",
    "print \"GET articles from \" + path\n",
    "\n",
    "headers = {\n",
    "    \"Content-Type\": \"application/json\",\n",
    "}\n",
    "\n",
    "r = requests.get(path, headers=headers)\n",
    "\n",
    "if r.ok:\n",
    "    print pprint(r.json())\n",
    "else:\n",
    "    print r.status_code, r.reason\n",
    "    print r.text"
   ]
  },
  {
   "cell_type": "code",
   "execution_count": null,
   "metadata": {},
   "outputs": [],
   "source": [
    "#Subscriptions"
   ]
  },
  {
   "cell_type": "code",
   "execution_count": null,
   "metadata": {},
   "outputs": [],
   "source": [
    "path = join(api, \"subscriptions\")\n",
    "print \"POST subscriptions to \" + path\n",
    "\n",
    "payload = {\n",
    "    \"user_id\": \"59d31403-926a-409b-91fb-8582a933abed\",\n",
    "    \"feed_id\": \"e85e8b68-ffa0-4670-a990-7db6eb2ea8df\",\n",
    "}\n",
    "\n",
    "headers = {\n",
    "    \"Content-Type\": \"application/json\",\n",
    "}\n",
    "\n",
    "r = requests.post(path, headers=headers, data=json.dumps(payload))\n",
    "user_id = \"\"\n",
    "\n",
    "if r.ok:\n",
    "    print r.json()\n",
    "    user_id = r.json()['id']\n",
    "else:\n",
    "    print r.status_code, r.reason\n",
    "    print r.text"
   ]
  },
  {
   "cell_type": "code",
   "execution_count": null,
   "metadata": {},
   "outputs": [],
   "source": [
    "path = join(api, \"subscriptions\")\n",
    "print \"GET subscriptions from \" + path\n",
    "\n",
    "headers = {\n",
    "    \"Content-Type\": \"application/json\",\n",
    "}\n",
    "\n",
    "r = requests.get(path, headers=headers)\n",
    "\n",
    "if r.ok:\n",
    "    print pprint(r.json())\n",
    "else:\n",
    "    print r.status_code, r.reason\n",
    "    print r.text"
   ]
  },
  {
   "cell_type": "code",
   "execution_count": null,
   "metadata": {},
   "outputs": [],
   "source": []
  }
 ],
 "metadata": {
  "kernelspec": {
   "display_name": "Python 2",
   "language": "python",
   "name": "python2"
  },
  "language_info": {
   "codemirror_mode": {
    "name": "ipython",
    "version": 2
   },
   "file_extension": ".py",
   "mimetype": "text/x-python",
   "name": "python",
   "nbconvert_exporter": "python",
   "pygments_lexer": "ipython2",
   "version": "2.7.15rc1"
  }
 },
 "nbformat": 4,
 "nbformat_minor": 2
}
